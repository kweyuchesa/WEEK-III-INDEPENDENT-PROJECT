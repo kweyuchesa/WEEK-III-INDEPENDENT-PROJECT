{
 "cells": [
  {
   "cell_type": "code",
   "execution_count": 2,
   "metadata": {},
   "outputs": [
    {
     "data": {
      "text/html": [
       "<script type=\"text/javascript\">window.PlotlyConfig = {MathJaxConfig: 'local'};</script><script type=\"text/javascript\">if (window.MathJax) {MathJax.Hub.Config({SVG: {font: \"STIX-Web\"}});}</script><script>requirejs.config({paths: { 'plotly': ['https://cdn.plot.ly/plotly-latest.min']},});if(!window._Plotly) {require(['plotly'],function(plotly) {window._Plotly=plotly;});}</script>"
      ],
      "text/vnd.plotly.v1+html": [
       "<script type=\"text/javascript\">window.PlotlyConfig = {MathJaxConfig: 'local'};</script><script type=\"text/javascript\">if (window.MathJax) {MathJax.Hub.Config({SVG: {font: \"STIX-Web\"}});}</script><script>requirejs.config({paths: { 'plotly': ['https://cdn.plot.ly/plotly-latest.min']},});if(!window._Plotly) {require(['plotly'],function(plotly) {window._Plotly=plotly;});}</script>"
      ]
     },
     "metadata": {},
     "output_type": "display_data"
    }
   ],
   "source": [
    "## Import the package\n",
    "import numpy as np\n",
    "import pandas as pd\n",
    "import pandas_profiling\n",
    "import matplotlib.pyplot as plt\n",
    "import plotly as py\n",
    "import plotly.graph_objs as go\n",
    "import seaborn as sns \n",
    "from sklearn import linear_model\n",
    "from sklearn.cluster import KMeans\n",
    "import statsmodels.api as sm\n",
    "import matplotlib.pyplot as plt\n",
    "import warnings\n",
    "import os\n",
    "warnings.filterwarnings(\"ignore\")\n",
    "py.offline.init_notebook_mode(connected = True)"
   ]
  },
  {
   "cell_type": "code",
   "execution_count": 3,
   "metadata": {},
   "outputs": [
    {
     "data": {
      "text/html": [
       "<div>\n",
       "<style scoped>\n",
       "    .dataframe tbody tr th:only-of-type {\n",
       "        vertical-align: middle;\n",
       "    }\n",
       "\n",
       "    .dataframe tbody tr th {\n",
       "        vertical-align: top;\n",
       "    }\n",
       "\n",
       "    .dataframe thead th {\n",
       "        text-align: right;\n",
       "    }\n",
       "</style>\n",
       "<table border=\"1\" class=\"dataframe\">\n",
       "  <thead>\n",
       "    <tr style=\"text-align: right;\">\n",
       "      <th></th>\n",
       "      <th>Unnamed: 0</th>\n",
       "      <th>VILLES</th>\n",
       "      <th>STATUS</th>\n",
       "      <th>LOCALISATION</th>\n",
       "      <th>DECOUPZONE</th>\n",
       "      <th>ZONENAME</th>\n",
       "      <th>LONGITUDE</th>\n",
       "      <th>LATITUDE</th>\n",
       "      <th>REGION</th>\n",
       "      <th>AREA</th>\n",
       "      <th>CELL_ID</th>\n",
       "      <th>SITE_CODE</th>\n",
       "    </tr>\n",
       "  </thead>\n",
       "  <tbody>\n",
       "    <tr>\n",
       "      <th>0</th>\n",
       "      <td>0</td>\n",
       "      <td>ADJAME</td>\n",
       "      <td>In Service</td>\n",
       "      <td>ABIDJAN</td>\n",
       "      <td>\"Abidjan_EST</td>\n",
       "      <td>AGBANNEW</td>\n",
       "      <td>-4.000667</td>\n",
       "      <td>5.368194</td>\n",
       "      <td>LAGUNE</td>\n",
       "      <td>NaN</td>\n",
       "      <td>fbb2e75af3</td>\n",
       "      <td>0bb492ef17</td>\n",
       "    </tr>\n",
       "    <tr>\n",
       "      <th>1</th>\n",
       "      <td>1</td>\n",
       "      <td>ADJAME</td>\n",
       "      <td>In Service</td>\n",
       "      <td>ABIDJAN</td>\n",
       "      <td>\"Abidjan_EST</td>\n",
       "      <td>AGBANNEW</td>\n",
       "      <td>-4.000667</td>\n",
       "      <td>5.368194</td>\n",
       "      <td>LAGUNE</td>\n",
       "      <td>NaN</td>\n",
       "      <td>1502501d78</td>\n",
       "      <td>0bb492ef17</td>\n",
       "    </tr>\n",
       "    <tr>\n",
       "      <th>2</th>\n",
       "      <td>2</td>\n",
       "      <td>ADJAME</td>\n",
       "      <td>In Service</td>\n",
       "      <td>ABIDJAN</td>\n",
       "      <td>\"Abidjan_EST</td>\n",
       "      <td>AGBANNEW</td>\n",
       "      <td>-4.000667</td>\n",
       "      <td>5.368194</td>\n",
       "      <td>LAGUNE</td>\n",
       "      <td>NaN</td>\n",
       "      <td>0c2e182a0c</td>\n",
       "      <td>0bb492ef17</td>\n",
       "    </tr>\n",
       "    <tr>\n",
       "      <th>3</th>\n",
       "      <td>3</td>\n",
       "      <td>ASSINIE</td>\n",
       "      <td>In Service</td>\n",
       "      <td>INTERIEUR</td>\n",
       "      <td>Grand-EST</td>\n",
       "      <td>ASSINIE\"</td>\n",
       "      <td>-3.488467</td>\n",
       "      <td>5.158761</td>\n",
       "      <td>SUD COMOE</td>\n",
       "      <td>NaN</td>\n",
       "      <td>69bdfc69fd</td>\n",
       "      <td>8a1e6ce31f</td>\n",
       "    </tr>\n",
       "    <tr>\n",
       "      <th>4</th>\n",
       "      <td>4</td>\n",
       "      <td>ASSINIE</td>\n",
       "      <td>In Service</td>\n",
       "      <td>INTERIEUR</td>\n",
       "      <td>Grand-EST</td>\n",
       "      <td>ASSINIE\"</td>\n",
       "      <td>-3.488467</td>\n",
       "      <td>5.158761</td>\n",
       "      <td>SUD COMOE</td>\n",
       "      <td>NaN</td>\n",
       "      <td>7a1029d2ab</td>\n",
       "      <td>8a1e6ce31f</td>\n",
       "    </tr>\n",
       "  </tbody>\n",
       "</table>\n",
       "</div>"
      ],
      "text/plain": [
       "   Unnamed: 0   VILLES      STATUS LOCALISATION    DECOUPZONE  ZONENAME  \\\n",
       "0           0   ADJAME  In Service      ABIDJAN  \"Abidjan_EST  AGBANNEW   \n",
       "1           1   ADJAME  In Service      ABIDJAN  \"Abidjan_EST  AGBANNEW   \n",
       "2           2   ADJAME  In Service      ABIDJAN  \"Abidjan_EST  AGBANNEW   \n",
       "3           3  ASSINIE  In Service    INTERIEUR     Grand-EST  ASSINIE\"   \n",
       "4           4  ASSINIE  In Service    INTERIEUR     Grand-EST  ASSINIE\"   \n",
       "\n",
       "   LONGITUDE  LATITUDE     REGION AREA     CELL_ID   SITE_CODE  \n",
       "0  -4.000667  5.368194     LAGUNE  NaN  fbb2e75af3  0bb492ef17  \n",
       "1  -4.000667  5.368194     LAGUNE  NaN  1502501d78  0bb492ef17  \n",
       "2  -4.000667  5.368194     LAGUNE  NaN  0c2e182a0c  0bb492ef17  \n",
       "3  -3.488467  5.158761  SUD COMOE  NaN  69bdfc69fd  8a1e6ce31f  \n",
       "4  -3.488467  5.158761  SUD COMOE  NaN  7a1029d2ab  8a1e6ce31f  "
      ]
     },
     "execution_count": 3,
     "metadata": {},
     "output_type": "execute_result"
    }
   ],
   "source": [
    "#Spliting the columns with a delimiter \n",
    "geo = pd.read_csv('cells_geo.csv', delimiter = ';')\n",
    "geo.head()"
   ]
  },
  {
   "cell_type": "code",
   "execution_count": null,
   "metadata": {},
   "outputs": [],
   "source": [
    "#DESCRIBING THE DATASET\n",
    "geo.info() "
   ]
  },
  {
   "cell_type": "code",
   "execution_count": null,
   "metadata": {},
   "outputs": [],
   "source": [
    "city = geo[\"VILLES\"].value_counts()\n",
    "city"
   ]
  },
  {
   "cell_type": "code",
   "execution_count": null,
   "metadata": {},
   "outputs": [],
   "source": [
    "#EDA with pandas profiling for our geo dataset\n",
    "pandas_profiling.ProfileReport(geo)"
   ]
  },
  {
   "cell_type": "code",
   "execution_count": null,
   "metadata": {},
   "outputs": [],
   "source": [
    "#Running Unique values on prominent columns for our analysis\n",
    "geo.VILLES.unique()"
   ]
  },
  {
   "cell_type": "code",
   "execution_count": 11,
   "metadata": {},
   "outputs": [
    {
     "data": {
      "text/plain": [
       "LOCALISATION\n",
       "ABIDJAN      1669\n",
       "INTERIEUR    2305\n",
       "Name: REGION, dtype: int64"
      ]
     },
     "execution_count": 11,
     "metadata": {},
     "output_type": "execute_result"
    }
   ],
   "source": [
    "# How many regions under localization are there in the dataset\n",
    "# \n",
    "local=geo['REGION'].groupby(geo['LOCALISATION'])\n",
    "local.count()"
   ]
  },
  {
   "cell_type": "code",
   "execution_count": null,
   "metadata": {},
   "outputs": [],
   "source": [
    "%matplotlib inline\n",
    "geo['LONGITUDE'].plot()"
   ]
  },
  {
   "cell_type": "code",
   "execution_count": null,
   "metadata": {},
   "outputs": [],
   "source": [
    "#IMPORTING DAY 1 DATASETS \n",
    "day1 = pd.read_csv('MoringaSchool_CB_CDR_20120507.csv')\n",
    "day1.head(3)"
   ]
  },
  {
   "cell_type": "code",
   "execution_count": null,
   "metadata": {},
   "outputs": [],
   "source": [
    "#IMPORTING DAY 2 DATASETS \n",
    "day2 = pd.read_csv('MoringaSchool_CB_CDR_20120508.csv')\n",
    "day2.head(3)"
   ]
  },
  {
   "cell_type": "code",
   "execution_count": null,
   "metadata": {},
   "outputs": [],
   "source": [
    "#IMPORTING THE 3 DAYS DATASETS \n",
    "day3 = pd.read_csv('MoringaSchool_CB_CDR_20120509.csv')\n",
    "day3.head(3)"
   ]
  },
  {
   "cell_type": "code",
   "execution_count": null,
   "metadata": {},
   "outputs": [],
   "source": [
    "#data info FOR THE 3 days datasets \n",
    "day1.info()\n",
    "day2.info()\n",
    "day3.info()"
   ]
  },
  {
   "cell_type": "code",
   "execution_count": null,
   "metadata": {},
   "outputs": [],
   "source": [
    "#renaming columns to be uniform in all datasets \n",
    "day1.rename(index=str, columns={\"PRODUTC\": \"PRODUCT\",\"DATETIME\": \"DATE_TIME\"})"
   ]
  },
  {
   "cell_type": "code",
   "execution_count": null,
   "metadata": {},
   "outputs": [],
   "source": [
    "#renaming columns to be uniform in all datasets \n",
    "day2.rename(index=str, columns={\"CELLID\": \"CELL_ID\"})"
   ]
  },
  {
   "cell_type": "code",
   "execution_count": null,
   "metadata": {},
   "outputs": [],
   "source": [
    "#renaming columns to be uniform in all datasets \n",
    "day3.rename(index=str, columns={\"CELLID\": \"CELL_ID\", \"SIET_ID\": \"SITE_ID\"})"
   ]
  },
  {
   "cell_type": "code",
   "execution_count": null,
   "metadata": {},
   "outputs": [],
   "source": [
    "#combining the datasets for uniform analysis\n",
    "df=pd.concat([day1, day2, day3], ignore_index=True)\n",
    "df.head()"
   ]
  },
  {
   "cell_type": "code",
   "execution_count": null,
   "metadata": {},
   "outputs": [],
   "source": [
    "#DATA CLEANING - Dropping unnecesarry variables \n",
    "df.drop(['DW_A_NUMBER_INT','DW_B_NUMBER_INT','CELL_ON_SITE','COUNTRY_A','COUNTRY_B'],inplace=True)\n",
    "df.head()"
   ]
  },
  {
   "cell_type": "code",
   "execution_count": null,
   "metadata": {},
   "outputs": [],
   "source": [
    "# DATA CLEANING - Drop rows where all cells in that row is NA\n",
    "#CHECKING IIF DATASET HAS ANY NULL VALUES \n",
    "df.isnull().values.any()"
   ]
  },
  {
   "cell_type": "code",
   "execution_count": null,
   "metadata": {},
   "outputs": [],
   "source": [
    "# find out the number of missing values\n",
    "df.isnull().sum()"
   ]
  },
  {
   "cell_type": "code",
   "execution_count": null,
   "metadata": {},
   "outputs": [],
   "source": [
    "#dropping all rows with null values for easy analysis \n",
    "df.dropna(how='all')"
   ]
  },
  {
   "cell_type": "code",
   "execution_count": null,
   "metadata": {},
   "outputs": [],
   "source": [
    "#spliting the datetime column in our dataset\n",
    "from datetime import datetime\n",
    "from datetime import time \n",
    "df[['DATE','TIME']] = df.DATETIME.str.split(expand=True)\n",
    "df.head()"
   ]
  },
  {
   "cell_type": "code",
   "execution_count": null,
   "metadata": {},
   "outputs": [],
   "source": [
    "#Grouping values by products to get mean values of the our products \n",
    "prod_val_mean = df['VALUE'].groupby(df['PRODUCT'])\n",
    "prod_val_mean.mean()"
   ]
  },
  {
   "cell_type": "code",
   "execution_count": null,
   "metadata": {},
   "outputs": [],
   "source": [
    "#Creating a pivot table of Value and Product with std deviation in mind \n",
    "df.pivot_table(index=['PRODUCT','VALUE'], aggfunc='std')"
   ]
  },
  {
   "cell_type": "code",
   "execution_count": null,
   "metadata": {},
   "outputs": [],
   "source": [
    "#finding the correlation in dataset \n",
    "df.corr()"
   ]
  },
  {
   "cell_type": "code",
   "execution_count": null,
   "metadata": {},
   "outputs": [],
   "source": []
  },
  {
   "cell_type": "code",
   "execution_count": null,
   "metadata": {},
   "outputs": [],
   "source": []
  },
  {
   "cell_type": "code",
   "execution_count": null,
   "metadata": {},
   "outputs": [],
   "source": []
  },
  {
   "cell_type": "code",
   "execution_count": null,
   "metadata": {},
   "outputs": [],
   "source": []
  },
  {
   "cell_type": "code",
   "execution_count": null,
   "metadata": {},
   "outputs": [],
   "source": []
  },
  {
   "cell_type": "code",
   "execution_count": null,
   "metadata": {},
   "outputs": [],
   "source": []
  }
 ],
 "metadata": {
  "kernelspec": {
   "display_name": "Python 3",
   "language": "python",
   "name": "python3"
  },
  "language_info": {
   "codemirror_mode": {
    "name": "ipython",
    "version": 3
   },
   "file_extension": ".py",
   "mimetype": "text/x-python",
   "name": "python",
   "nbconvert_exporter": "python",
   "pygments_lexer": "ipython3",
   "version": "3.7.1"
  }
 },
 "nbformat": 4,
 "nbformat_minor": 2
}
